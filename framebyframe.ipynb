{
  "nbformat": 4,
  "nbformat_minor": 0,
  "metadata": {
    "colab": {
      "provenance": []
    },
    "kernelspec": {
      "name": "python3",
      "display_name": "Python 3"
    },
    "language_info": {
      "name": "python"
    }
  },
  "cells": [
    {
      "cell_type": "code",
      "execution_count": null,
      "metadata": {
        "id": "hC-kEZbN6WyU"
      },
      "outputs": [],
      "source": []
    },
    {
      "cell_type": "code",
      "source": [
        "from google.colab import drive\n",
        "drive.mount('/content/drive')"
      ],
      "metadata": {
        "colab": {
          "base_uri": "https://localhost:8080/"
        },
        "id": "lb4Led8Y43pN",
        "outputId": "1f2c0bf0-fd25-4615-edc7-5b8cffa27e8e"
      },
      "execution_count": null,
      "outputs": [
        {
          "output_type": "stream",
          "name": "stdout",
          "text": [
            "Mounted at /content/drive\n"
          ]
        }
      ]
    },
    {
      "cell_type": "code",
      "source": [
        "import cv2\n",
        "import os\n",
        "\n",
        "# Path to the video file on Google Drive\n",
        "video_path = '/content/drive/MyDrive/skripsi/(24).mp4'\n",
        "\n",
        "# Directory to save the extracted frames\n",
        "output_dir = '/content/drive/MyDrive/skripsi/frames5secnight'\n",
        "os.makedirs(output_dir, exist_ok=True)\n",
        "\n"
      ],
      "metadata": {
        "id": "Y0uXdhi_763F"
      },
      "execution_count": null,
      "outputs": []
    },
    {
      "cell_type": "code",
      "source": [
        "# Open the video file\n",
        "cap = cv2.VideoCapture(video_path)\n",
        "\n",
        "# Get the frame rate of the video\n",
        "fps = cap.get(cv2.CAP_PROP_FPS)\n",
        "frame_interval = int(fps * 5)  # Every 30 seconds\n",
        "\n",
        "frame_count = 0\n",
        "saved_count = 0\n",
        "\n",
        "\n"
      ],
      "metadata": {
        "id": "wqwnAO9c7-WC"
      },
      "execution_count": null,
      "outputs": []
    },
    {
      "cell_type": "code",
      "source": [
        "while cap.isOpened():\n",
        "    ret, frame = cap.read()\n",
        "\n",
        "    if not ret:\n",
        "        break\n",
        "\n",
        "    # Save frame every 30 seconds\n",
        "    if frame_count % frame_interval == 0:\n",
        "        output_path = os.path.join(output_dir, f\"frame_{saved_count}.jpg\")\n",
        "        cv2.imwrite(output_path, frame)\n",
        "        saved_count += 1\n",
        "\n",
        "    frame_count += 1\n",
        "\n",
        "cap.release()\n",
        "cv2.destroyAllWindows()\n",
        "\n",
        "print(f\"Saved {saved_count} frames to {output_dir}\")"
      ],
      "metadata": {
        "colab": {
          "base_uri": "https://localhost:8080/"
        },
        "id": "S0monbaj8DVF",
        "outputId": "1b059888-42db-498f-a6df-14be788e4e95"
      },
      "execution_count": null,
      "outputs": [
        {
          "output_type": "stream",
          "name": "stdout",
          "text": [
            "Saved 661 frames to /content/drive/MyDrive/skripsi/frames5secnight\n"
          ]
        }
      ]
    }
  ]
}